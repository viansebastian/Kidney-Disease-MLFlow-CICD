{
 "cells": [
  {
   "cell_type": "code",
   "execution_count": 3,
   "metadata": {},
   "outputs": [
    {
     "data": {
      "text/plain": [
       "'/home/gfspet/ml-projects/kidney-disease'"
      ]
     },
     "execution_count": 3,
     "metadata": {},
     "output_type": "execute_result"
    }
   ],
   "source": [
    "import os \n",
    "\n",
    "os.getcwd()\n",
    "# go back to root folder\n",
    "os.chdir('../')\n",
    "os.getcwd()"
   ]
  },
  {
   "cell_type": "code",
   "execution_count": 17,
   "metadata": {},
   "outputs": [],
   "source": [
    "# %cd research/"
   ]
  },
  {
   "cell_type": "markdown",
   "metadata": {},
   "source": [
    "Data Ingestion Configs"
   ]
  },
  {
   "cell_type": "code",
   "execution_count": 4,
   "metadata": {},
   "outputs": [],
   "source": [
    "import sys\n",
    "sys.path.append('/home/gfspet/ml-projects/kidney-disease/src')\n",
    "from dataclasses import dataclass\n",
    "from pathlib import Path \n",
    "from cnn_classifier.constants import * \n",
    "from cnn_classifier.utils.common import read_yaml, create_directories\n",
    "\n",
    "\n",
    "@dataclass(frozen=True) \n",
    "class DataIngestionConfig: \n",
    "    root_dir: Path\n",
    "    source_URL: str\n",
    "    local_data_file: Path\n",
    "    unzip_dir: Path\n",
    "\n",
    "class ConfigurationManager:\n",
    "    def __init__(\n",
    "        self, \n",
    "        config_filepath=CONFIG_FILE_PATH, \n",
    "        params_filepath=PARAMS_FILE_PATH):\n",
    "        \n",
    "        self.config = read_yaml(config_filepath)\n",
    "        self.params = read_yaml(params_filepath)\n",
    "        \n",
    "        create_directories([self.config.artifacts_root])\n",
    "    \n",
    "    def get_data_ingestion_config(self) -> DataIngestionConfig: \n",
    "        config = self.config.data_ingestion\n",
    "        create_directories([config.root_dir])\n",
    "        \n",
    "        data_ingestion_config = DataIngestionConfig(\n",
    "            root_dir=config.root_dir, \n",
    "            source_URL=config.source_URL, \n",
    "            local_data_file=config.local_data_file,\n",
    "            unzip_dir=config.unzip_dir\n",
    "        )\n",
    "        \n",
    "        return data_ingestion_config"
   ]
  },
  {
   "cell_type": "markdown",
   "metadata": {},
   "source": [
    "Data Ingestion Component"
   ]
  },
  {
   "cell_type": "code",
   "execution_count": null,
   "metadata": {},
   "outputs": [],
   "source": [
    "import os \n",
    "import zipfile\n",
    "import gdown\n",
    "from cnn_classifier import logger\n",
    "\n",
    "\n",
    "class DataIngestion:\n",
    "    def __init__(self, config=DataIngestionConfig):\n",
    "        self.config = config\n",
    "        \n",
    "    def download_file(self) -> str: \n",
    "        try: \n",
    "            dataset_url = self.config.source_URL\n",
    "            zip_download_dir = self.config.local_data_file\n",
    "            os.makedirs('artifacts/data_ingestion', exist_ok=True) \n",
    "            # os.makedirs(zip_download_dir, exist_ok=True)\n",
    "            logger.info(f'Downloading data from ({dataset_url}) to ({zip_download_dir})')\n",
    "            \n",
    "            file_id = dataset_url.split('/')[-2]\n",
    "            prefix = 'https://drive.google.com/uc?/export=download&id='\n",
    "            gdown.download(prefix + file_id, zip_download_dir)\n",
    "            logger.info(f'Download completed')\n",
    "            \n",
    "        except Exception as e: \n",
    "            raise e\n",
    "        \n",
    "    def extract_zip(self):\n",
    "        unzip_path = self.config.unzip_dir\n",
    "        os.makedirs(unzip_path, exist_ok=True) \n",
    "        with zipfile.ZipFile(self.config.local_data_file, 'r') as zip_ref: \n",
    "            zip_ref.extractall(unzip_path)"
   ]
  },
  {
   "cell_type": "markdown",
   "metadata": {},
   "source": [
    "Data Ingestion Pipeline"
   ]
  },
  {
   "cell_type": "code",
   "execution_count": 10,
   "metadata": {},
   "outputs": [
    {
     "name": "stdout",
     "output_type": "stream",
     "text": [
      "[ 2024-11-23 22:02:18,532 ] 21 cnn_classifier_logger - INFO - yaml file: config/config.yaml loaded successfully\n",
      "[ 2024-11-23 22:02:18,536 ] 21 cnn_classifier_logger - INFO - yaml file: params.yaml loaded successfully\n",
      "[ 2024-11-23 22:02:18,539 ] 33 cnn_classifier_logger - INFO - Created directory at: artifacts\n",
      "[ 2024-11-23 22:02:18,543 ] 33 cnn_classifier_logger - INFO - Created directory at: artifacts/data_ingestion\n",
      "[ 2024-11-23 22:02:18,553 ] 18 cnn_classifier_logger - INFO - Downloading data from (https://drive.google.com/file/d/1RMUrozOYrdxD40pcXJMCAPRy6kIrBrg3/view?usp=sharing) to (artifacts/data_ingestion/data.zip)\n"
     ]
    },
    {
     "name": "stderr",
     "output_type": "stream",
     "text": [
      "Downloading...\n",
      "From (original): https://drive.google.com/uc?/export=download&id=1RMUrozOYrdxD40pcXJMCAPRy6kIrBrg3\n",
      "From (redirected): https://drive.google.com/uc?%2Fexport=download&id=1RMUrozOYrdxD40pcXJMCAPRy6kIrBrg3&confirm=t&uuid=10094a5d-ffd0-40c7-9630-47818f159ca1\n",
      "To: /home/gfspet/ml-projects/kidney-disease/artifacts/data_ingestion/data.zip\n",
      "100%|██████████| 112M/112M [00:20<00:00, 5.36MB/s] "
     ]
    },
    {
     "name": "stdout",
     "output_type": "stream",
     "text": [
      "[ 2024-11-23 22:02:43,963 ] 23 cnn_classifier_logger - INFO - Download completed\n"
     ]
    },
    {
     "name": "stderr",
     "output_type": "stream",
     "text": [
      "\n"
     ]
    }
   ],
   "source": [
    "try:\n",
    "    config = ConfigurationManager() \n",
    "    data_ingestion_config = config.get_data_ingestion_config()\n",
    "    data_ingestion = DataIngestion(config=data_ingestion_config) \n",
    "    data_ingestion.download_file()\n",
    "    data_ingestion.extract_zip()\n",
    "except Exception as e: \n",
    "    raise e"
   ]
  }
 ],
 "metadata": {
  "kernelspec": {
   "display_name": "kidney-disease",
   "language": "python",
   "name": "python3"
  },
  "language_info": {
   "codemirror_mode": {
    "name": "ipython",
    "version": 3
   },
   "file_extension": ".py",
   "mimetype": "text/x-python",
   "name": "python",
   "nbconvert_exporter": "python",
   "pygments_lexer": "ipython3",
   "version": "3.9.20"
  }
 },
 "nbformat": 4,
 "nbformat_minor": 2
}
