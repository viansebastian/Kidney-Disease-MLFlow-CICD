{
 "cells": [
  {
   "cell_type": "markdown",
   "metadata": {},
   "source": [
    "Import data from Google Drive \n",
    "\n",
    "---\n",
    "- Data is downloaded using the Kaggle API in the drive\n",
    "- Importing to this project"
   ]
  },
  {
   "cell_type": "code",
   "execution_count": null,
   "metadata": {},
   "outputs": [
    {
     "name": "stderr",
     "output_type": "stream",
     "text": [
      "Downloading...\n",
      "From (original): https://drive.google.com/uc?/export=download&id=1RMUrozOYrdxD40pcXJMCAPRy6kIrBrg3\n",
      "From (redirected): https://drive.google.com/uc?%2Fexport=download&id=1RMUrozOYrdxD40pcXJMCAPRy6kIrBrg3&confirm=t&uuid=f2bb784c-321b-448d-abc9-8aa92bcb3fdb\n",
      "To: /home/gfspet/ml-projects/kidney-disease/research/data.zip\n",
      "100%|██████████| 112M/112M [00:16<00:00, 6.72MB/s] \n"
     ]
    },
    {
     "data": {
      "text/plain": [
       "'data.zip'"
      ]
     },
     "execution_count": 10,
     "metadata": {},
     "output_type": "execute_result"
    }
   ],
   "source": [
    "import gdown\n",
    "\n",
    "url = 'https://drive.google.com/file/d/1RMUrozOYrdxD40pcXJMCAPRy6kIrBrg3/view?usp=sharing'\n",
    "file_id = url.split('/')[-2]\n",
    "prefix = 'https://drive.google.com/uc?/export=download&id='\n",
    "\n",
    "gdown.download(prefix + file_id, 'data.zip')"
   ]
  }
 ],
 "metadata": {
  "kernelspec": {
   "display_name": "kidney-disease",
   "language": "python",
   "name": "python3"
  },
  "language_info": {
   "codemirror_mode": {
    "name": "ipython",
    "version": 3
   },
   "file_extension": ".py",
   "mimetype": "text/x-python",
   "name": "python",
   "nbconvert_exporter": "python",
   "pygments_lexer": "ipython3",
   "version": "3.9.20"
  }
 },
 "nbformat": 4,
 "nbformat_minor": 2
}
