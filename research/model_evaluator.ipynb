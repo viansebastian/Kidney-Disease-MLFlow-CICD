{
 "cells": [
  {
   "cell_type": "code",
   "execution_count": 1,
   "metadata": {},
   "outputs": [
    {
     "data": {
      "text/plain": [
       "'/home/gfspet/ml-projects/kidney-disease'"
      ]
     },
     "execution_count": 1,
     "metadata": {},
     "output_type": "execute_result"
    }
   ],
   "source": [
    "import os \n",
    "\n",
    "os.getcwd()\n",
    "os.chdir('../')\n",
    "os.getcwd()"
   ]
  },
  {
   "cell_type": "code",
   "execution_count": 2,
   "metadata": {},
   "outputs": [
    {
     "name": "stdout",
     "output_type": "stream",
     "text": [
      "[ 2024-11-24 15:28:33,232 ] 1038 httpx : INFO : _client : HTTP Request: GET https://dagshub.com/api/v1/user \"HTTP/1.1 200 OK\"\n"
     ]
    },
    {
     "data": {
      "text/html": [
       "<pre style=\"white-space:pre;overflow-x:auto;line-height:normal;font-family:Menlo,'DejaVu Sans Mono',consolas,'Courier New',monospace\">Accessing as viansebastian\n",
       "</pre>\n"
      ],
      "text/plain": [
       "Accessing as viansebastian\n"
      ]
     },
     "metadata": {},
     "output_type": "display_data"
    },
    {
     "name": "stdout",
     "output_type": "stream",
     "text": [
      "[ 2024-11-24 15:28:33,241 ] 107 dagshub : INFO : helpers : Accessing as viansebastian\n",
      "[ 2024-11-24 15:28:33,573 ] 1038 httpx : INFO : _client : HTTP Request: GET https://dagshub.com/api/v1/repos/viansebastian/Kidney-Disease-MLFlow-CICD \"HTTP/1.1 200 OK\"\n",
      "[ 2024-11-24 15:28:33,838 ] 1038 httpx : INFO : _client : HTTP Request: GET https://dagshub.com/api/v1/user \"HTTP/1.1 200 OK\"\n"
     ]
    },
    {
     "data": {
      "text/html": [
       "<pre style=\"white-space:pre;overflow-x:auto;line-height:normal;font-family:Menlo,'DejaVu Sans Mono',consolas,'Courier New',monospace\">Initialized MLflow to track repo <span style=\"color: #008000; text-decoration-color: #008000\">\"viansebastian/Kidney-Disease-MLFlow-CICD\"</span>\n",
       "</pre>\n"
      ],
      "text/plain": [
       "Initialized MLflow to track repo \u001b[32m\"viansebastian/Kidney-Disease-MLFlow-CICD\"\u001b[0m\n"
      ]
     },
     "metadata": {},
     "output_type": "display_data"
    },
    {
     "name": "stdout",
     "output_type": "stream",
     "text": [
      "[ 2024-11-24 15:28:33,843 ] 107 dagshub : INFO : helpers : Initialized MLflow to track repo \"viansebastian/Kidney-Disease-MLFlow-CICD\"\n"
     ]
    },
    {
     "data": {
      "text/html": [
       "<pre style=\"white-space:pre;overflow-x:auto;line-height:normal;font-family:Menlo,'DejaVu Sans Mono',consolas,'Courier New',monospace\">Repository viansebastian/Kidney-Disease-MLFlow-CICD initialized!\n",
       "</pre>\n"
      ],
      "text/plain": [
       "Repository viansebastian/Kidney-Disease-MLFlow-CICD initialized!\n"
      ]
     },
     "metadata": {},
     "output_type": "display_data"
    },
    {
     "name": "stdout",
     "output_type": "stream",
     "text": [
      "[ 2024-11-24 15:28:33,845 ] 107 dagshub : INFO : helpers : Repository viansebastian/Kidney-Disease-MLFlow-CICD initialized!\n"
     ]
    }
   ],
   "source": [
    "import sys\n",
    "sys.path.append('/home/gfspet/ml-projects/kidney-disease/src')\n",
    "from dataclasses import dataclass\n",
    "from pathlib import Path \n",
    "from cnn_classifier.constants import * \n",
    "from cnn_classifier.utils.common import read_yaml, create_directories, save_json\n",
    "\n",
    "import dagshub\n",
    "dagshub.init(repo_owner='viansebastian', repo_name='Kidney-Disease-MLFlow-CICD', mlflow=True)\n",
    "\n",
    "# os.environ['MLFLOW_TRACKING_URI']='https://dagshub.com/viansebastian/Kidney-Disease-MLFlow-CICD.mlflow'\n",
    "# os.environ['MLFLOW_TRACKING_USERNAME']='viansebastian'\n",
    "# os.environ['MLFLOW_TRACKING_PASSWORD']='c3aa83f40168a9b813c80d635a44343ef0a33451'\n",
    "  \n",
    "@dataclass(frozen=True)\n",
    "class EvaluationConfig: \n",
    "    model_path: Path\n",
    "    training_data: Path\n",
    "    all_params: dict\n",
    "    mlflow_uri: str\n",
    "    params_image_size: list\n",
    "    params_batch_size: int\n",
    "    \n",
    "class ConfigurationManager:\n",
    "    def __init__(\n",
    "        self, \n",
    "        config_filepath=CONFIG_FILE_PATH, \n",
    "        params_filepath=PARAMS_FILE_PATH):\n",
    "        \n",
    "        self.config = read_yaml(config_filepath)\n",
    "        self.params = read_yaml(params_filepath)\n",
    "        \n",
    "        create_directories([self.config.artifacts_root])\n",
    "    \n",
    "    def get_eval_config(self) -> EvaluationConfig:\n",
    "        eval_config = EvaluationConfig(\n",
    "            model_path='artifacts/training/final_model.keras',\n",
    "            training_data='artifacts/data_ingestion/data',\n",
    "            all_params=self.params,\n",
    "            params_batch_size=self.params.BATCH_SIZE,\n",
    "            params_image_size=self.params.IMAGE_SIZE, \n",
    "            mlflow_uri='https://dagshub.com/viansebastian/Kidney-Disease-MLFlow-CICD.mlflow'\n",
    "        )\n",
    "        \n",
    "        return eval_config"
   ]
  },
  {
   "cell_type": "code",
   "execution_count": 3,
   "metadata": {},
   "outputs": [
    {
     "name": "stderr",
     "output_type": "stream",
     "text": [
      "2024-11-24 15:28:34.145509: I external/local_xla/xla/tsl/cuda/cudart_stub.cc:32] Could not find cuda drivers on your machine, GPU will not be used.\n",
      "2024-11-24 15:28:34.149510: I external/local_xla/xla/tsl/cuda/cudart_stub.cc:32] Could not find cuda drivers on your machine, GPU will not be used.\n",
      "2024-11-24 15:28:34.159404: E external/local_xla/xla/stream_executor/cuda/cuda_fft.cc:477] Unable to register cuFFT factory: Attempting to register factory for plugin cuFFT when one has already been registered\n",
      "WARNING: All log messages before absl::InitializeLog() is called are written to STDERR\n",
      "E0000 00:00:1732433314.175236  447920 cuda_dnn.cc:8310] Unable to register cuDNN factory: Attempting to register factory for plugin cuDNN when one has already been registered\n",
      "E0000 00:00:1732433314.179402  447920 cuda_blas.cc:1418] Unable to register cuBLAS factory: Attempting to register factory for plugin cuBLAS when one has already been registered\n",
      "2024-11-24 15:28:34.196831: I tensorflow/core/platform/cpu_feature_guard.cc:210] This TensorFlow binary is optimized to use available CPU instructions in performance-critical operations.\n",
      "To enable the following instructions: AVX2 FMA, in other operations, rebuild TensorFlow with the appropriate compiler flags.\n"
     ]
    }
   ],
   "source": [
    "import tensorflow as tf\n",
    "import numpy as np\n",
    "import mlflow\n",
    "import mlflow.keras\n",
    "from mlflow.models.signature import infer_signature\n",
    "from urllib.parse import urlparse\n",
    "\n",
    "class Evaluator:\n",
    "    def __init__(self, config: EvaluationConfig):\n",
    "        self.config = config\n",
    "    \n",
    "    def valid_generator(self):\n",
    "        datagenerator_kwargs = dict(\n",
    "            rescale = 1./255,\n",
    "            validation_split = 0.2\n",
    "        )\n",
    "        \n",
    "        dataflow_kwargs = dict(\n",
    "            target_size = self.config.params_image_size[:-1],\n",
    "            batch_size = self.config.params_batch_size,\n",
    "            interpolation = 'nearest'\n",
    "        )\n",
    "        \n",
    "        valid_datagen = tf.keras.preprocessing.image.ImageDataGenerator(\n",
    "            **datagenerator_kwargs\n",
    "        )\n",
    "        \n",
    "        self.validation_generator = valid_datagen.flow_from_directory(\n",
    "            directory=self.config.training_data,\n",
    "            shuffle=False,\n",
    "            subset='validation',\n",
    "            class_mode='categorical',\n",
    "            **dataflow_kwargs\n",
    "        )\n",
    "    \n",
    "    def evaluation(self): \n",
    "        self.model = self.load_model(self.config.model_path)\n",
    "        self.valid_generator()\n",
    "        self.score = self.model.evaluate(self.validation_generator)\n",
    "        self.save_score()\n",
    "        \n",
    "    def save_score(self): \n",
    "        scores = {\n",
    "            \"loss\" : self.score[0],\n",
    "            \"accuracy\" : self.score[1]\n",
    "        }\n",
    "        save_json(\n",
    "            path=Path('scores.json'),\n",
    "            data=scores\n",
    "        )\n",
    "    \n",
    "    def log_into_mlflow(self):\n",
    "        mlflow.set_registry_uri(self.config.mlflow_uri)\n",
    "        tracking_url_type_store = urlparse(mlflow.get_artifact_uri()).scheme\n",
    "        \n",
    "        if mlflow.active_run():\n",
    "            mlflow.end_run()\n",
    "        \n",
    "        with mlflow.start_run(nested=True):\n",
    "            mlflow.log_params(self.config.all_params)\n",
    "            mlflow.log_metrics(\n",
    "                {\n",
    "                    \"loss\" : self.score[0],\n",
    "                    \"accuracy\" : self.score[1]\n",
    "                }\n",
    "            )\n",
    "            \n",
    "            # input_example = np.random.random(1, *self.config.params_image_size)\n",
    "            # signature = infer_signature(input_example)\n",
    "            \n",
    "            if tracking_url_type_store != 'file':\n",
    "                mlflow.keras.log_model(\n",
    "                    self.model, \n",
    "                    'model', \n",
    "                    registered_model_name='MobileNetV2Kidney',\n",
    "                    # input_example=input_example,\n",
    "                    # signature=signature\n",
    "                )\n",
    "            else: \n",
    "                mlflow.keras.log_model(\n",
    "                    self.model, \n",
    "                    'model',\n",
    "                    # input_example=input_example,\n",
    "                    # signature=signature\n",
    "                    )\n",
    "        \n",
    "    @staticmethod\n",
    "    def load_model(path: Path) -> tf.keras.Model:\n",
    "        return tf.keras.models.load_model(path)  \n",
    "    \n",
    "# try:\n",
    "#     config = ConfigurationManager() \n",
    "#     eval_config = config.get_eval_config()\n",
    "#     eval = Evaluator(config=eval_config) \n",
    "#     eval.evaluation()\n",
    "#     eval.log_into_mlflow()\n",
    "# except Exception as e: \n",
    "#     raise e"
   ]
  },
  {
   "cell_type": "code",
   "execution_count": 4,
   "metadata": {},
   "outputs": [
    {
     "name": "stdout",
     "output_type": "stream",
     "text": [
      "[ 2024-11-24 15:28:36,577 ] 21 cnn_classifier_logger : INFO : common : yaml file: config/config.yaml loaded successfully\n",
      "[ 2024-11-24 15:28:36,581 ] 21 cnn_classifier_logger : INFO : common : yaml file: params.yaml loaded successfully\n",
      "[ 2024-11-24 15:28:36,582 ] 33 cnn_classifier_logger : INFO : common : Created directory at: artifacts\n"
     ]
    },
    {
     "name": "stderr",
     "output_type": "stream",
     "text": [
      "2024-11-24 15:28:36.591374: E external/local_xla/xla/stream_executor/cuda/cuda_driver.cc:152] failed call to cuInit: INTERNAL: CUDA error: Failed call to cuInit: UNKNOWN ERROR (303)\n"
     ]
    },
    {
     "name": "stdout",
     "output_type": "stream",
     "text": [
      "Found 120 images belonging to 3 classes.\n"
     ]
    },
    {
     "name": "stderr",
     "output_type": "stream",
     "text": [
      "/home/gfspet/miniconda3/envs/kidney-disease/lib/python3.9/site-packages/keras/src/trainers/data_adapters/py_dataset_adapter.py:121: UserWarning: Your `PyDataset` class should call `super().__init__(**kwargs)` in its constructor. `**kwargs` can include `workers`, `use_multiprocessing`, `max_queue_size`. Do not pass these arguments to `fit()`, as they will be ignored.\n",
      "  self._warn_if_super_not_called()\n"
     ]
    },
    {
     "name": "stdout",
     "output_type": "stream",
     "text": [
      "\u001b[1m8/8\u001b[0m \u001b[32m━━━━━━━━━━━━━━━━━━━━\u001b[0m\u001b[37m\u001b[0m \u001b[1m5s\u001b[0m 377ms/step - accuracy: 0.3822 - loss: 3.0708\n",
      "[ 2024-11-24 15:28:43,582 ] 40 cnn_classifier_logger : INFO : common : JSON file saved at: scores.json\n",
      "🏃 View run nebulous-fawn-942 at: https://dagshub.com/viansebastian/Kidney-Disease-MLFlow-CICD.mlflow/#/experiments/0/runs/1e1de112d4ff46f0b697d7cacef4dbc5\n",
      "🧪 View experiment at: https://dagshub.com/viansebastian/Kidney-Disease-MLFlow-CICD.mlflow/#/experiments/0\n"
     ]
    },
    {
     "name": "stderr",
     "output_type": "stream",
     "text": [
      "2024/11/24 15:28:45 WARNING mlflow.keras.save: You are saving a Keras model without specifying model signature.\n",
      "2024/11/24 15:29:06 WARNING mlflow.models.model: Model logged without a signature and input example. Please set `input_example` parameter when logging the model to auto infer the model signature.\n",
      "Registered model 'MobileNetV2Kidney' already exists. Creating a new version of this model...\n",
      "2024/11/24 15:30:09 INFO mlflow.store.model_registry.abstract_store: Waiting up to 300 seconds for model version to finish creation. Model name: MobileNetV2Kidney, version 3\n",
      "Created version '3' of model 'MobileNetV2Kidney'.\n"
     ]
    },
    {
     "name": "stdout",
     "output_type": "stream",
     "text": [
      "🏃 View run masked-kit-402 at: https://dagshub.com/viansebastian/Kidney-Disease-MLFlow-CICD.mlflow/#/experiments/0/runs/2c97136c993c4f75bcb7faa07e90031e\n",
      "🧪 View experiment at: https://dagshub.com/viansebastian/Kidney-Disease-MLFlow-CICD.mlflow/#/experiments/0\n"
     ]
    }
   ],
   "source": [
    "try:\n",
    "    config = ConfigurationManager() \n",
    "    eval_config = config.get_eval_config()\n",
    "    eval = Evaluator(config=eval_config) \n",
    "    eval.evaluation()\n",
    "    eval.log_into_mlflow()\n",
    "except Exception as e: \n",
    "    raise e"
   ]
  }
 ],
 "metadata": {
  "kernelspec": {
   "display_name": "kidney-disease",
   "language": "python",
   "name": "python3"
  },
  "language_info": {
   "codemirror_mode": {
    "name": "ipython",
    "version": 3
   },
   "file_extension": ".py",
   "mimetype": "text/x-python",
   "name": "python",
   "nbconvert_exporter": "python",
   "pygments_lexer": "ipython3",
   "version": "3.9.20"
  }
 },
 "nbformat": 4,
 "nbformat_minor": 2
}
