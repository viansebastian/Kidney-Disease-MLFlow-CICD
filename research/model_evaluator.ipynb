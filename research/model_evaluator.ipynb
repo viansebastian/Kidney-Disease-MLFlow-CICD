{
 "cells": [
  {
   "cell_type": "code",
   "execution_count": 1,
   "metadata": {},
   "outputs": [
    {
     "data": {
      "text/plain": [
       "'/home/gfspet/ml-projects/kidney-disease'"
      ]
     },
     "execution_count": 1,
     "metadata": {},
     "output_type": "execute_result"
    }
   ],
   "source": [
    "import os \n",
    "\n",
    "os.getcwd()\n",
    "os.chdir('../')\n",
    "os.getcwd()"
   ]
  },
  {
   "cell_type": "code",
   "execution_count": 2,
   "metadata": {},
   "outputs": [
    {
     "name": "stdout",
     "output_type": "stream",
     "text": [
      "[ 2024-11-24 15:27:28,125 ] 1038 httpx : INFO : _client : HTTP Request: GET https://dagshub.com/api/v1/user \"HTTP/1.1 200 OK\"\n"
     ]
    },
    {
     "data": {
      "text/html": [
       "<pre style=\"white-space:pre;overflow-x:auto;line-height:normal;font-family:Menlo,'DejaVu Sans Mono',consolas,'Courier New',monospace\">Accessing as viansebastian\n",
       "</pre>\n"
      ],
      "text/plain": [
       "Accessing as viansebastian\n"
      ]
     },
     "metadata": {},
     "output_type": "display_data"
    },
    {
     "name": "stdout",
     "output_type": "stream",
     "text": [
      "[ 2024-11-24 15:27:28,132 ] 107 dagshub : INFO : helpers : Accessing as viansebastian\n",
      "[ 2024-11-24 15:27:28,458 ] 1038 httpx : INFO : _client : HTTP Request: GET https://dagshub.com/api/v1/repos/viansebastian/Kidney-Disease-MLFlow-CICD \"HTTP/1.1 200 OK\"\n",
      "[ 2024-11-24 15:27:28,855 ] 1038 httpx : INFO : _client : HTTP Request: GET https://dagshub.com/api/v1/user \"HTTP/1.1 200 OK\"\n"
     ]
    },
    {
     "data": {
      "text/html": [
       "<pre style=\"white-space:pre;overflow-x:auto;line-height:normal;font-family:Menlo,'DejaVu Sans Mono',consolas,'Courier New',monospace\">Initialized MLflow to track repo <span style=\"color: #008000; text-decoration-color: #008000\">\"viansebastian/Kidney-Disease-MLFlow-CICD\"</span>\n",
       "</pre>\n"
      ],
      "text/plain": [
       "Initialized MLflow to track repo \u001b[32m\"viansebastian/Kidney-Disease-MLFlow-CICD\"\u001b[0m\n"
      ]
     },
     "metadata": {},
     "output_type": "display_data"
    },
    {
     "name": "stdout",
     "output_type": "stream",
     "text": [
      "[ 2024-11-24 15:27:28,858 ] 107 dagshub : INFO : helpers : Initialized MLflow to track repo \"viansebastian/Kidney-Disease-MLFlow-CICD\"\n"
     ]
    },
    {
     "data": {
      "text/html": [
       "<pre style=\"white-space:pre;overflow-x:auto;line-height:normal;font-family:Menlo,'DejaVu Sans Mono',consolas,'Courier New',monospace\">Repository viansebastian/Kidney-Disease-MLFlow-CICD initialized!\n",
       "</pre>\n"
      ],
      "text/plain": [
       "Repository viansebastian/Kidney-Disease-MLFlow-CICD initialized!\n"
      ]
     },
     "metadata": {},
     "output_type": "display_data"
    },
    {
     "name": "stdout",
     "output_type": "stream",
     "text": [
      "[ 2024-11-24 15:27:28,860 ] 107 dagshub : INFO : helpers : Repository viansebastian/Kidney-Disease-MLFlow-CICD initialized!\n"
     ]
    }
   ],
   "source": [
    "import sys\n",
    "sys.path.append('/home/gfspet/ml-projects/kidney-disease/src')\n",
    "from dataclasses import dataclass\n",
    "from pathlib import Path \n",
    "from cnn_classifier.constants import * \n",
    "from cnn_classifier.utils.common import read_yaml, create_directories, save_json\n",
    "\n",
    "import dagshub\n",
    "dagshub.init(repo_owner='viansebastian', repo_name='Kidney-Disease-MLFlow-CICD', mlflow=True)\n",
    "\n",
    "# os.environ['MLFLOW_TRACKING_URI']='https://dagshub.com/viansebastian/Kidney-Disease-MLFlow-CICD.mlflow'\n",
    "# os.environ['MLFLOW_TRACKING_USERNAME']='viansebastian'\n",
    "# os.environ['MLFLOW_TRACKING_PASSWORD']='c3aa83f40168a9b813c80d635a44343ef0a33451'\n",
    "  \n",
    "@dataclass(frozen=True)\n",
    "class EvaluationConfig: \n",
    "    model_path: Path\n",
    "    training_data: Path\n",
    "    all_params: dict\n",
    "    mlflow_uri: str\n",
    "    params_image_size: list\n",
    "    params_batch_size: int\n",
    "    \n",
    "class ConfigurationManager:\n",
    "    def __init__(\n",
    "        self, \n",
    "        config_filepath=CONFIG_FILE_PATH, \n",
    "        params_filepath=PARAMS_FILE_PATH):\n",
    "        \n",
    "        self.config = read_yaml(config_filepath)\n",
    "        self.params = read_yaml(params_filepath)\n",
    "        \n",
    "        create_directories([self.config.artifacts_root])\n",
    "    \n",
    "    def get_eval_config(self) -> EvaluationConfig:\n",
    "        eval_config = EvaluationConfig(\n",
    "            model_path='artifacts/training/final_model.keras',\n",
    "            training_data='artifacts/data_ingestion/data',\n",
    "            all_params=self.params,\n",
    "            params_batch_size=self.params.BATCH_SIZE,\n",
    "            params_image_size=self.params.IMAGE_SIZE, \n",
    "            mlflow_uri='https://dagshub.com/viansebastian/Kidney-Disease-MLFlow-CICD.mlflow'\n",
    "        )\n",
    "        \n",
    "        return eval_config"
   ]
  },
  {
   "cell_type": "code",
   "execution_count": null,
   "metadata": {},
   "outputs": [
    {
     "name": "stderr",
     "output_type": "stream",
     "text": [
      "2024-11-24 15:27:29.132986: I external/local_xla/xla/tsl/cuda/cudart_stub.cc:32] Could not find cuda drivers on your machine, GPU will not be used.\n",
      "2024-11-24 15:27:29.139747: I external/local_xla/xla/tsl/cuda/cudart_stub.cc:32] Could not find cuda drivers on your machine, GPU will not be used.\n",
      "2024-11-24 15:27:29.153063: E external/local_xla/xla/stream_executor/cuda/cuda_fft.cc:477] Unable to register cuFFT factory: Attempting to register factory for plugin cuFFT when one has already been registered\n",
      "WARNING: All log messages before absl::InitializeLog() is called are written to STDERR\n",
      "E0000 00:00:1732433249.174645  447625 cuda_dnn.cc:8310] Unable to register cuDNN factory: Attempting to register factory for plugin cuDNN when one has already been registered\n",
      "E0000 00:00:1732433249.182053  447625 cuda_blas.cc:1418] Unable to register cuBLAS factory: Attempting to register factory for plugin cuBLAS when one has already been registered\n",
      "2024-11-24 15:27:29.209305: I tensorflow/core/platform/cpu_feature_guard.cc:210] This TensorFlow binary is optimized to use available CPU instructions in performance-critical operations.\n",
      "To enable the following instructions: AVX2 FMA, in other operations, rebuild TensorFlow with the appropriate compiler flags.\n"
     ]
    }
   ],
   "source": [
    "import tensorflow as tf\n",
    "import numpy as np\n",
    "import mlflow\n",
    "import mlflow.keras\n",
    "from mlflow.models.signature import infer_signature\n",
    "from urllib.parse import urlparse\n",
    "\n",
    "class Evaluator:\n",
    "    def __init__(self, config: EvaluationConfig):\n",
    "        self.config = config\n",
    "    \n",
    "    def valid_generator(self):\n",
    "        datagenerator_kwargs = dict(\n",
    "            rescale = 1./255,\n",
    "            validation_split = 0.2\n",
    "        )\n",
    "        \n",
    "        dataflow_kwargs = dict(\n",
    "            target_size = self.config.params_image_size[:-1],\n",
    "            batch_size = self.config.params_batch_size,\n",
    "            interpolation = 'nearest'\n",
    "        )\n",
    "        \n",
    "        valid_datagen = tf.keras.preprocessing.image.ImageDataGenerator(\n",
    "            **datagenerator_kwargs\n",
    "        )\n",
    "        \n",
    "        self.validation_generator = valid_datagen.flow_from_directory(\n",
    "            directory=self.config.training_data,\n",
    "            shuffle=False,\n",
    "            subset='validation',\n",
    "            class_mode='categorical',\n",
    "            **dataflow_kwargs\n",
    "        )\n",
    "    \n",
    "    def evaluation(self): \n",
    "        self.model = self.load_model(self.config.model_path)\n",
    "        self.valid_generator()\n",
    "        self.score = self.model.evaluate(self.validation_generator)\n",
    "        self.save_score()\n",
    "        \n",
    "    def save_score(self): \n",
    "        scores = {\n",
    "            \"loss\" : self.score[0],\n",
    "            \"accuracy\" : self.score[1]\n",
    "        }\n",
    "        save_json(\n",
    "            path=Path('scores.json'),\n",
    "            data=scores\n",
    "        )\n",
    "    \n",
    "    def log_into_mlflow(self):\n",
    "        mlflow.set_registry_uri(self.config.mlflow_uri)\n",
    "        tracking_url_type_store = urlparse(mlflow.get_artifact_uri()).scheme\n",
    "        \n",
    "        if mlflow.active_run():\n",
    "            mlflow.end_run()\n",
    "        \n",
    "        with mlflow.start_run(nested=True):\n",
    "            mlflow.log_params(self.config.all_params)\n",
    "            mlflow.log_metrics(\n",
    "                {\n",
    "                    \"loss\" : self.score[0],\n",
    "                    \"accuracy\" : self.score[1]\n",
    "                }\n",
    "            )\n",
    "            \n",
    "            # input_example = np.random.random(1, *self.config.params_image_size)\n",
    "            # signature = infer_signature(input_example)\n",
    "            \n",
    "            if tracking_url_type_store != 'file':\n",
    "                mlflow.keras.log_model(\n",
    "                    self.model, \n",
    "                    'model', \n",
    "                    registered_model_name='MobileNetV2Kidney',\n",
    "                    # input_example=input_example,\n",
    "                    # signature=signature\n",
    "                )\n",
    "            else: \n",
    "                mlflow.keras.log_model(\n",
    "                    self.model, \n",
    "                    'model',\n",
    "                    # input_example=input_example,\n",
    "                    # signature=signature\n",
    "                    )\n",
    "        \n",
    "    @staticmethod\n",
    "    def load_model(path: Path) -> tf.keras.Model:\n",
    "        return tf.keras.models.load_model(path)  \n",
    "    \n",
    "# try:\n",
    "#     config = ConfigurationManager() \n",
    "#     eval_config = config.get_eval_config()\n",
    "#     eval = Evaluator(config=eval_config) \n",
    "#     eval.evaluation()\n",
    "#     eval.log_into_mlflow()\n",
    "# except Exception as e: \n",
    "#     raise e"
   ]
  },
  {
   "cell_type": "code",
   "execution_count": 4,
   "metadata": {},
   "outputs": [
    {
     "name": "stdout",
     "output_type": "stream",
     "text": [
      "[ 2024-11-24 15:27:31,977 ] 21 cnn_classifier_logger : INFO : common : yaml file: config/config.yaml loaded successfully\n",
      "[ 2024-11-24 15:27:31,980 ] 21 cnn_classifier_logger : INFO : common : yaml file: params.yaml loaded successfully\n",
      "[ 2024-11-24 15:27:31,982 ] 33 cnn_classifier_logger : INFO : common : Created directory at: artifacts\n"
     ]
    },
    {
     "name": "stderr",
     "output_type": "stream",
     "text": [
      "2024-11-24 15:27:31.992779: E external/local_xla/xla/stream_executor/cuda/cuda_driver.cc:152] failed call to cuInit: INTERNAL: CUDA error: Failed call to cuInit: UNKNOWN ERROR (303)\n"
     ]
    },
    {
     "name": "stdout",
     "output_type": "stream",
     "text": [
      "Found 120 images belonging to 3 classes.\n"
     ]
    },
    {
     "name": "stderr",
     "output_type": "stream",
     "text": [
      "/home/gfspet/miniconda3/envs/kidney-disease/lib/python3.9/site-packages/keras/src/trainers/data_adapters/py_dataset_adapter.py:121: UserWarning: Your `PyDataset` class should call `super().__init__(**kwargs)` in its constructor. `**kwargs` can include `workers`, `use_multiprocessing`, `max_queue_size`. Do not pass these arguments to `fit()`, as they will be ignored.\n",
      "  self._warn_if_super_not_called()\n"
     ]
    },
    {
     "name": "stdout",
     "output_type": "stream",
     "text": [
      "\u001b[1m15/15\u001b[0m \u001b[32m━━━━━━━━━━━━━━━━━━━━\u001b[0m\u001b[37m\u001b[0m \u001b[1m5s\u001b[0m 196ms/step - accuracy: 0.3331 - loss: 3.3489\n",
      "[ 2024-11-24 15:27:38,463 ] 40 cnn_classifier_logger : INFO : common : JSON file saved at: scores.json\n",
      "🏃 View run polite-rat-576 at: https://dagshub.com/viansebastian/Kidney-Disease-MLFlow-CICD.mlflow/#/experiments/0/runs/b150d610fa4a4d2da0e716bbaf9a2337\n",
      "🧪 View experiment at: https://dagshub.com/viansebastian/Kidney-Disease-MLFlow-CICD.mlflow/#/experiments/0\n",
      "🏃 View run enthused-mole-435 at: https://dagshub.com/viansebastian/Kidney-Disease-MLFlow-CICD.mlflow/#/experiments/0/runs/3e4bbf30fdaa435cadb71babd41781e3\n",
      "🧪 View experiment at: https://dagshub.com/viansebastian/Kidney-Disease-MLFlow-CICD.mlflow/#/experiments/0\n"
     ]
    },
    {
     "ename": "TypeError",
     "evalue": "random() takes at most 1 positional argument (4 given)",
     "output_type": "error",
     "traceback": [
      "\u001b[0;31m---------------------------------------------------------------------------\u001b[0m",
      "\u001b[0;31mTypeError\u001b[0m                                 Traceback (most recent call last)",
      "Cell \u001b[0;32mIn[4], line 8\u001b[0m\n\u001b[1;32m      6\u001b[0m     \u001b[38;5;28meval\u001b[39m\u001b[38;5;241m.\u001b[39mlog_into_mlflow()\n\u001b[1;32m      7\u001b[0m \u001b[38;5;28;01mexcept\u001b[39;00m \u001b[38;5;167;01mException\u001b[39;00m \u001b[38;5;28;01mas\u001b[39;00m e: \n\u001b[0;32m----> 8\u001b[0m     \u001b[38;5;28;01mraise\u001b[39;00m e\n",
      "Cell \u001b[0;32mIn[4], line 6\u001b[0m\n\u001b[1;32m      4\u001b[0m     \u001b[38;5;28meval\u001b[39m \u001b[38;5;241m=\u001b[39m Evaluator(config\u001b[38;5;241m=\u001b[39meval_config) \n\u001b[1;32m      5\u001b[0m     \u001b[38;5;28meval\u001b[39m\u001b[38;5;241m.\u001b[39mevaluation()\n\u001b[0;32m----> 6\u001b[0m     \u001b[38;5;28;43meval\u001b[39;49m\u001b[38;5;241;43m.\u001b[39;49m\u001b[43mlog_into_mlflow\u001b[49m\u001b[43m(\u001b[49m\u001b[43m)\u001b[49m\n\u001b[1;32m      7\u001b[0m \u001b[38;5;28;01mexcept\u001b[39;00m \u001b[38;5;167;01mException\u001b[39;00m \u001b[38;5;28;01mas\u001b[39;00m e: \n\u001b[1;32m      8\u001b[0m     \u001b[38;5;28;01mraise\u001b[39;00m e\n",
      "Cell \u001b[0;32mIn[3], line 68\u001b[0m, in \u001b[0;36mEvaluator.log_into_mlflow\u001b[0;34m(self)\u001b[0m\n\u001b[1;32m     60\u001b[0m mlflow\u001b[38;5;241m.\u001b[39mlog_params(\u001b[38;5;28mself\u001b[39m\u001b[38;5;241m.\u001b[39mconfig\u001b[38;5;241m.\u001b[39mall_params)\n\u001b[1;32m     61\u001b[0m mlflow\u001b[38;5;241m.\u001b[39mlog_metrics(\n\u001b[1;32m     62\u001b[0m     {\n\u001b[1;32m     63\u001b[0m         \u001b[38;5;124m\"\u001b[39m\u001b[38;5;124mloss\u001b[39m\u001b[38;5;124m\"\u001b[39m : \u001b[38;5;28mself\u001b[39m\u001b[38;5;241m.\u001b[39mscore[\u001b[38;5;241m0\u001b[39m],\n\u001b[1;32m     64\u001b[0m         \u001b[38;5;124m\"\u001b[39m\u001b[38;5;124maccuracy\u001b[39m\u001b[38;5;124m\"\u001b[39m : \u001b[38;5;28mself\u001b[39m\u001b[38;5;241m.\u001b[39mscore[\u001b[38;5;241m1\u001b[39m]\n\u001b[1;32m     65\u001b[0m     }\n\u001b[1;32m     66\u001b[0m )\n\u001b[0;32m---> 68\u001b[0m input_example \u001b[38;5;241m=\u001b[39m \u001b[43mnp\u001b[49m\u001b[38;5;241;43m.\u001b[39;49m\u001b[43mrandom\u001b[49m\u001b[38;5;241;43m.\u001b[39;49m\u001b[43mrandom\u001b[49m\u001b[43m(\u001b[49m\u001b[38;5;241;43m1\u001b[39;49m\u001b[43m,\u001b[49m\u001b[43m \u001b[49m\u001b[38;5;241;43m*\u001b[39;49m\u001b[38;5;28;43mself\u001b[39;49m\u001b[38;5;241;43m.\u001b[39;49m\u001b[43mconfig\u001b[49m\u001b[38;5;241;43m.\u001b[39;49m\u001b[43mparams_image_size\u001b[49m\u001b[43m)\u001b[49m\n\u001b[1;32m     69\u001b[0m signature \u001b[38;5;241m=\u001b[39m infer_signature(input_example)\n\u001b[1;32m     71\u001b[0m \u001b[38;5;28;01mif\u001b[39;00m tracking_url_type_store \u001b[38;5;241m!=\u001b[39m \u001b[38;5;124m'\u001b[39m\u001b[38;5;124mfile\u001b[39m\u001b[38;5;124m'\u001b[39m:\n",
      "File \u001b[0;32mnumpy/random/mtrand.pyx:443\u001b[0m, in \u001b[0;36mnumpy.random.mtrand.RandomState.random\u001b[0;34m()\u001b[0m\n",
      "\u001b[0;31mTypeError\u001b[0m: random() takes at most 1 positional argument (4 given)"
     ]
    }
   ],
   "source": [
    "try:\n",
    "    config = ConfigurationManager() \n",
    "    eval_config = config.get_eval_config()\n",
    "    eval = Evaluator(config=eval_config) \n",
    "    eval.evaluation()\n",
    "    eval.log_into_mlflow()\n",
    "except Exception as e: \n",
    "    raise e"
   ]
  }
 ],
 "metadata": {
  "kernelspec": {
   "display_name": "kidney-disease",
   "language": "python",
   "name": "python3"
  },
  "language_info": {
   "codemirror_mode": {
    "name": "ipython",
    "version": 3
   },
   "file_extension": ".py",
   "mimetype": "text/x-python",
   "name": "python",
   "nbconvert_exporter": "python",
   "pygments_lexer": "ipython3",
   "version": "3.9.20"
  }
 },
 "nbformat": 4,
 "nbformat_minor": 2
}
